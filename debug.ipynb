{
 "cells": [
  {
   "cell_type": "code",
   "execution_count": 1,
   "metadata": {},
   "outputs": [
    {
     "name": "stdout",
     "output_type": "stream",
     "text": [
      "Requirement already satisfied: tensorboard in /root/miniconda3/envs/threestudio/lib/python3.9/site-packages (2.19.0)\n",
      "Requirement already satisfied: absl-py>=0.4 in /root/miniconda3/envs/threestudio/lib/python3.9/site-packages (from tensorboard) (2.1.0)\n",
      "Requirement already satisfied: grpcio>=1.48.2 in /root/miniconda3/envs/threestudio/lib/python3.9/site-packages (from tensorboard) (1.71.0)\n",
      "Requirement already satisfied: markdown>=2.6.8 in /root/miniconda3/envs/threestudio/lib/python3.9/site-packages (from tensorboard) (3.7)\n",
      "Requirement already satisfied: numpy>=1.12.0 in /root/miniconda3/envs/threestudio/lib/python3.9/site-packages (from tensorboard) (1.26.4)\n",
      "Requirement already satisfied: packaging in /root/miniconda3/envs/threestudio/lib/python3.9/site-packages (from tensorboard) (24.2)\n",
      "Requirement already satisfied: protobuf!=4.24.0,>=3.19.6 in /root/miniconda3/envs/threestudio/lib/python3.9/site-packages (from tensorboard) (5.29.3)\n",
      "Requirement already satisfied: setuptools>=41.0.0 in /root/miniconda3/envs/threestudio/lib/python3.9/site-packages (from tensorboard) (75.8.0)\n",
      "Requirement already satisfied: six>1.9 in /root/miniconda3/envs/threestudio/lib/python3.9/site-packages (from tensorboard) (1.17.0)\n",
      "Requirement already satisfied: tensorboard-data-server<0.8.0,>=0.7.0 in /root/miniconda3/envs/threestudio/lib/python3.9/site-packages (from tensorboard) (0.7.2)\n",
      "Requirement already satisfied: werkzeug>=1.0.1 in /root/miniconda3/envs/threestudio/lib/python3.9/site-packages (from tensorboard) (3.1.3)\n",
      "Requirement already satisfied: importlib-metadata>=4.4 in /root/miniconda3/envs/threestudio/lib/python3.9/site-packages (from markdown>=2.6.8->tensorboard) (8.6.1)\n",
      "Requirement already satisfied: MarkupSafe>=2.1.1 in /root/miniconda3/envs/threestudio/lib/python3.9/site-packages (from werkzeug>=1.0.1->tensorboard) (2.1.5)\n",
      "Requirement already satisfied: zipp>=3.20 in /root/miniconda3/envs/threestudio/lib/python3.9/site-packages (from importlib-metadata>=4.4->markdown>=2.6.8->tensorboard) (3.21.0)\n",
      "\u001b[33mWARNING: Running pip as the 'root' user can result in broken permissions and conflicting behaviour with the system package manager, possibly rendering your system unusable. It is recommended to use a virtual environment instead: https://pip.pypa.io/warnings/venv. Use the --root-user-action option if you know what you are doing and want to suppress this warning.\u001b[0m\u001b[33m\n",
      "\u001b[0m"
     ]
    }
   ],
   "source": [
    "!pip install tensorboard"
   ]
  },
  {
   "cell_type": "code",
   "execution_count": 3,
   "metadata": {},
   "outputs": [
    {
     "ename": "NameError",
     "evalue": "name 'tf' is not defined",
     "output_type": "error",
     "traceback": [
      "\u001b[0;31m---------------------------------------------------------------------------\u001b[0m",
      "\u001b[0;31mNameError\u001b[0m                                 Traceback (most recent call last)",
      "Cell \u001b[0;32mIn[3], line 10\u001b[0m\n\u001b[1;32m      7\u001b[0m event_path \u001b[38;5;241m=\u001b[39m os\u001b[38;5;241m.\u001b[39mpath\u001b[38;5;241m.\u001b[39mjoin(log_dir, event_file)\n\u001b[1;32m      9\u001b[0m \u001b[38;5;66;03m# Load the TensorBoard log\u001b[39;00m\n\u001b[0;32m---> 10\u001b[0m event_acc \u001b[38;5;241m=\u001b[39m \u001b[43mtf\u001b[49m\u001b[38;5;241m.\u001b[39mcompat\u001b[38;5;241m.\u001b[39mv1\u001b[38;5;241m.\u001b[39mtrain\u001b[38;5;241m.\u001b[39msummary_iterator(event_path)\n\u001b[1;32m     12\u001b[0m \u001b[38;5;66;03m# Create a summary writer\u001b[39;00m\n\u001b[1;32m     13\u001b[0m summary_writer \u001b[38;5;241m=\u001b[39m tf\u001b[38;5;241m.\u001b[39msummary\u001b[38;5;241m.\u001b[39mcreate_file_writer(log_dir)\n",
      "\u001b[0;31mNameError\u001b[0m: name 'tf' is not defined"
     ]
    }
   ],
   "source": [
    "import tensorboard as tb\n",
    "import os\n",
    "\n",
    "# Path to the TensorBoard log file\n",
    "log_dir = \"/mnt/fast/threestudio/outputs/dreamfusion-if-triplane/a_zoomed_out_DSLR_photo_of_a_baby_bunny_sitting_on_top_of_a_stack_of_pancakes@20250317-024410/tb_logs/version_0\"\n",
    "event_file = \"events.out.tfevents.1742204650.weather-model.917859.0\"\n",
    "event_path = os.path.join(log_dir, event_file)\n",
    "\n",
    "# Load the TensorBoard log\n",
    "event_acc = tf.compat.v1.train.summary_iterator(event_path)\n",
    "\n",
    "# Create a summary writer\n",
    "summary_writer = tf.summary.create_file_writer(log_dir)\n",
    "\n",
    "# Write the events to the summary writer\n",
    "with summary_writer.as_default():\n",
    "    for event in event_acc:\n",
    "        for value in event.summary.value:\n",
    "            tf.summary.scalar(value.tag, value.simple_value, step=event.step)\n",
    "\n",
    "# Export the TensorBoard log to HTML\n",
    "!tensorboard dev upload --logdir {log_dir} --name \"DreamFusion IF Triplane Visualization\" --description \"Visualization of the TensorBoard logs for DreamFusion IF Triplane model.\"\n"
   ]
  },
  {
   "cell_type": "code",
   "execution_count": null,
   "metadata": {},
   "outputs": [],
   "source": []
  }
 ],
 "metadata": {
  "kernelspec": {
   "display_name": "threestudio",
   "language": "python",
   "name": "python3"
  },
  "language_info": {
   "codemirror_mode": {
    "name": "ipython",
    "version": 3
   },
   "file_extension": ".py",
   "mimetype": "text/x-python",
   "name": "python",
   "nbconvert_exporter": "python",
   "pygments_lexer": "ipython3",
   "version": "3.9.21"
  }
 },
 "nbformat": 4,
 "nbformat_minor": 2
}
